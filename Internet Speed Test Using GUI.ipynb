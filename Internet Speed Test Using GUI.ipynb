{
 "cells": [
  {
   "cell_type": "code",
   "execution_count": 5,
   "id": "3dd1a093",
   "metadata": {},
   "outputs": [
    {
     "name": "stdout",
     "output_type": "stream",
     "text": [
      "Collecting pyspeedtest\n",
      "  Downloading pyspeedtest-1.2.7.tar.gz (6.8 kB)\n",
      "Building wheels for collected packages: pyspeedtest\n",
      "  Building wheel for pyspeedtest (setup.py): started\n",
      "  Building wheel for pyspeedtest (setup.py): finished with status 'done'\n",
      "  Created wheel for pyspeedtest: filename=pyspeedtest-1.2.7-py3-none-any.whl size=7307 sha256=652c0f48bed4b54d002c92858f43067a4b97de075b37237a15bb5bed32b00ce1\n",
      "  Stored in directory: c:\\users\\user\\appdata\\local\\pip\\cache\\wheels\\1b\\b2\\ad\\6b708b07b7feae2bbc53521f3156c8db287fc65995b4614e04\n",
      "Successfully built pyspeedtest\n",
      "Installing collected packages: pyspeedtest\n",
      "Successfully installed pyspeedtest-1.2.7\n",
      "Note: you may need to restart the kernel to use updated packages.\n"
     ]
    }
   ],
   "source": [
    "pip install pyspeedtest"
   ]
  },
  {
   "cell_type": "code",
   "execution_count": 7,
   "id": "27996c63",
   "metadata": {},
   "outputs": [
    {
     "data": {
      "text/plain": [
       "['HTTPConnection',\n",
       " 'LOG',\n",
       " 'SpeedTest',\n",
       " 'Thread',\n",
       " '__builtins__',\n",
       " '__cached__',\n",
       " '__description__',\n",
       " '__doc__',\n",
       " '__file__',\n",
       " '__loader__',\n",
       " '__name__',\n",
       " '__package__',\n",
       " '__program__',\n",
       " '__spec__',\n",
       " '__supported_formats__',\n",
       " '__version__',\n",
       " 'argparse',\n",
       " 'bisect',\n",
       " 'content',\n",
       " 'currentThread',\n",
       " 'init_logging',\n",
       " 'itertools',\n",
       " 'logging',\n",
       " 'main',\n",
       " 'parseargs',\n",
       " 'perform_speedtest',\n",
       " 'platform',\n",
       " 'pretty_speed',\n",
       " 'print_function',\n",
       " 'randint',\n",
       " 'random',\n",
       " 're',\n",
       " 'sqrt',\n",
       " 'string',\n",
       " 'sys',\n",
       " 'time',\n",
       " 'urlencode']"
      ]
     },
     "execution_count": 7,
     "metadata": {},
     "output_type": "execute_result"
    }
   ],
   "source": [
    "dir(pyspeedtest)"
   ]
  },
  {
   "cell_type": "code",
   "execution_count": 6,
   "id": "973d59ab",
   "metadata": {},
   "outputs": [],
   "source": [
    "from tkinter import *\n",
    "import pyspeedtest"
   ]
  },
  {
   "cell_type": "code",
   "execution_count": 9,
   "id": "24851ab9",
   "metadata": {
    "scrolled": false
   },
   "outputs": [
    {
     "name": "stderr",
     "output_type": "stream",
     "text": [
      "Exception in Tkinter callback\n",
      "Traceback (most recent call last):\n",
      "  File \"C:\\Users\\User\\anaconda3\\lib\\tkinter\\__init__.py\", line 1892, in __call__\n",
      "    return self.func(*args)\n",
      "  File \"C:\\Users\\User\\AppData\\Local\\Temp/ipykernel_13040/1171189848.py\", line 4, in speedcheck\n",
      "    down=str(round(sp.download()/(10**6),3))+\"Mbps\"\n",
      "  File \"C:\\Users\\User\\anaconda3\\lib\\site-packages\\pyspeedtest.py\", line 91, in download\n",
      "    connections = [\n",
      "  File \"C:\\Users\\User\\anaconda3\\lib\\site-packages\\pyspeedtest.py\", line 92, in <listcomp>\n",
      "    self.connect(self.host) for i in range(self.runs)\n",
      "  File \"C:\\Users\\User\\anaconda3\\lib\\site-packages\\pyspeedtest.py\", line 67, in host\n",
      "    self._host = self.chooseserver()\n",
      "  File \"C:\\Users\\User\\anaconda3\\lib\\site-packages\\pyspeedtest.py\", line 234, in chooseserver\n",
      "    raise Exception('Cannot find a test server')\n",
      "Exception: Cannot find a test server\n"
     ]
    }
   ],
   "source": [
    "def speedcheck():\n",
    "    sp=pyspeedtest.SpeedTest()\n",
    "    #sp.get_servers()\n",
    "    down=str(round(sp.download()/(10**6),3))+\"Mbps\"\n",
    "    up=str(round(sp.download()/(10**6),3))+\"Mbps\"\n",
    "    lab_down.config(text=down)\n",
    "    lab_up.config(text=up)\n",
    "\n",
    "sp=Tk()\n",
    "sp.title(\"Internet Speed Test\")\n",
    "sp.geometry('500x700')\n",
    "sp.config(bg='Black')\n",
    "\n",
    "lab=Label(sp,text=\"Internet Speed Test\",font=('Time New Roman',30,'bold'),bg='Gray',fg='Red')\n",
    "lab.place(x=60,y=40,height=50,width=380)\n",
    "\n",
    "lab=Label(sp,text=\"Download Speed\",font=('Time New Roman',30,'bold'),bg='Pink',fg='Red')\n",
    "lab.place(x=60,y=130,height=50,width=380)\n",
    "\n",
    "lab_down=Label(sp,text=\"00\",font=('Time New Roman',30,'bold'),bg='White',fg='Red')\n",
    "lab_down.place(x=60,y=200,height=50,width=380)\n",
    "\n",
    "lab=Label(sp,text=\"Upload Speed\",font=('Time New Roman',30,'bold'),bg='Pink',fg='Red')\n",
    "lab.place(x=60,y=290,height=50,width=380)\n",
    "\n",
    "lab_up=Label(sp,text=\"00\",font=('Time New Roman',30,'bold'),bg='White',fg='Red')\n",
    "lab_up.place(x=60,y=360,height=50,width=380)\n",
    "\n",
    "butt=Button(sp,text=\"Check Speed\",font=('Time New Roman',30,'bold'),relief=RAISED ,bg='Blue',fg='White',command=speedcheck)\n",
    "butt.place(x=60,y=460,height=50,width=380)\n",
    "\n",
    "sp.mainloop()"
   ]
  },
  {
   "cell_type": "code",
   "execution_count": null,
   "id": "09a771bc",
   "metadata": {},
   "outputs": [],
   "source": []
  }
 ],
 "metadata": {
  "kernelspec": {
   "display_name": "Python 3 (ipykernel)",
   "language": "python",
   "name": "python3"
  },
  "language_info": {
   "codemirror_mode": {
    "name": "ipython",
    "version": 3
   },
   "file_extension": ".py",
   "mimetype": "text/x-python",
   "name": "python",
   "nbconvert_exporter": "python",
   "pygments_lexer": "ipython3",
   "version": "3.9.7"
  }
 },
 "nbformat": 4,
 "nbformat_minor": 5
}
